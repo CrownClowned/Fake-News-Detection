{
  "nbformat": 4,
  "nbformat_minor": 0,
  "metadata": {
    "colab": {
      "provenance": []
    },
    "kernelspec": {
      "name": "python3",
      "display_name": "Python 3"
    },
    "language_info": {
      "name": "python"
    }
  },
  "cells": [
    {
      "cell_type": "code",
      "metadata": {
        "id": "Y9EfcNmS3c_l",
        "colab": {
          "base_uri": "https://localhost:8080/"
        },
        "outputId": "2e31f563-efae-4b58-e0c1-5f3d74c50d0a"
      },
      "source": [
        "!apt-get upgrade\n",
        "!apt-get update\n",
        "!pip install web3\n",
        "!pip install eth-tester"
      ],
      "execution_count": null,
      "outputs": [
        {
          "output_type": "stream",
          "name": "stdout",
          "text": [
            "Reading package lists... Done\n",
            "Building dependency tree       \n",
            "Reading state information... Done\n",
            "Calculating upgrade... Done\n",
            "The following package was automatically installed and is no longer required:\n",
            "  libnvidia-common-460\n",
            "Use 'apt autoremove' to remove it.\n",
            "The following packages have been kept back:\n",
            "  libcudnn8 libcudnn8-dev libnccl-dev libnccl2\n",
            "0 upgraded, 0 newly installed, 0 to remove and 4 not upgraded.\n",
            "Hit:1 https://cloud.r-project.org/bin/linux/ubuntu bionic-cran40/ InRelease\n",
            "Hit:2 http://security.ubuntu.com/ubuntu bionic-security InRelease\n",
            "Hit:3 http://ppa.launchpad.net/c2d4u.team/c2d4u4.0+/ubuntu bionic InRelease\n",
            "Ign:4 https://developer.download.nvidia.com/compute/machine-learning/repos/ubuntu1804/x86_64  InRelease\n",
            "Hit:5 https://developer.download.nvidia.com/compute/cuda/repos/ubuntu1804/x86_64  InRelease\n",
            "Hit:6 http://archive.ubuntu.com/ubuntu bionic InRelease\n",
            "Hit:7 https://developer.download.nvidia.com/compute/machine-learning/repos/ubuntu1804/x86_64  Release\n",
            "Hit:8 http://archive.ubuntu.com/ubuntu bionic-updates InRelease\n",
            "Hit:9 http://ppa.launchpad.net/cran/libgit2/ubuntu bionic InRelease\n",
            "Hit:10 http://archive.ubuntu.com/ubuntu bionic-backports InRelease\n",
            "Hit:11 http://ppa.launchpad.net/deadsnakes/ppa/ubuntu bionic InRelease\n",
            "Hit:12 http://ppa.launchpad.net/graphics-drivers/ppa/ubuntu bionic InRelease\n",
            "Reading package lists... Done\n",
            "Looking in indexes: https://pypi.org/simple, https://us-python.pkg.dev/colab-wheels/public/simple/\n",
            "Requirement already satisfied: web3 in /usr/local/lib/python3.7/dist-packages (5.31.1)\n",
            "Collecting eth-rlp<0.3\n",
            "  Using cached eth_rlp-0.2.1-py3-none-any.whl (5.0 kB)\n",
            "Requirement already satisfied: requests<3.0.0,>=2.16.0 in /usr/local/lib/python3.7/dist-packages (from web3) (2.23.0)\n",
            "Collecting eth-typing<3.0.0,>=2.0.0\n",
            "  Using cached eth_typing-2.3.0-py3-none-any.whl (6.2 kB)\n",
            "Requirement already satisfied: websockets<10,>=9.1 in /usr/local/lib/python3.7/dist-packages (from web3) (9.1)\n",
            "Collecting eth-account<0.6.0,>=0.5.9\n",
            "  Using cached eth_account-0.5.9-py3-none-any.whl (101 kB)\n",
            "Requirement already satisfied: eth-hash[pycryptodome]<1.0.0,>=0.2.0 in /usr/local/lib/python3.7/dist-packages (from web3) (0.3.3)\n",
            "Collecting eth-utils<2.0.0,>=1.9.5\n",
            "  Using cached eth_utils-1.10.0-py3-none-any.whl (24 kB)\n",
            "Requirement already satisfied: aiohttp<4,>=3.7.4.post0 in /usr/local/lib/python3.7/dist-packages (from web3) (3.8.3)\n",
            "Requirement already satisfied: jsonschema<5,>=3.2.0 in /usr/local/lib/python3.7/dist-packages (from web3) (4.3.3)\n",
            "Requirement already satisfied: lru-dict<2.0.0,>=1.1.6 in /usr/local/lib/python3.7/dist-packages (from web3) (1.1.8)\n",
            "Requirement already satisfied: protobuf==3.19.5 in /usr/local/lib/python3.7/dist-packages (from web3) (3.19.5)\n",
            "Requirement already satisfied: typing-extensions<5,>=3.7.4.1 in /usr/local/lib/python3.7/dist-packages (from web3) (4.1.1)\n",
            "Collecting eth-abi<3.0.0,>=2.0.0b6\n",
            "  Using cached eth_abi-2.2.0-py3-none-any.whl (28 kB)\n",
            "Requirement already satisfied: ipfshttpclient==0.8.0a2 in /usr/local/lib/python3.7/dist-packages (from web3) (0.8.0a2)\n",
            "Requirement already satisfied: hexbytes<1.0.0,>=0.1.0 in /usr/local/lib/python3.7/dist-packages (from web3) (0.3.0)\n",
            "Requirement already satisfied: multiaddr>=0.0.7 in /usr/local/lib/python3.7/dist-packages (from ipfshttpclient==0.8.0a2->web3) (0.0.9)\n",
            "Requirement already satisfied: frozenlist>=1.1.1 in /usr/local/lib/python3.7/dist-packages (from aiohttp<4,>=3.7.4.post0->web3) (1.3.1)\n",
            "Requirement already satisfied: async-timeout<5.0,>=4.0.0a3 in /usr/local/lib/python3.7/dist-packages (from aiohttp<4,>=3.7.4.post0->web3) (4.0.2)\n",
            "Requirement already satisfied: multidict<7.0,>=4.5 in /usr/local/lib/python3.7/dist-packages (from aiohttp<4,>=3.7.4.post0->web3) (6.0.2)\n",
            "Requirement already satisfied: yarl<2.0,>=1.0 in /usr/local/lib/python3.7/dist-packages (from aiohttp<4,>=3.7.4.post0->web3) (1.8.1)\n",
            "Requirement already satisfied: attrs>=17.3.0 in /usr/local/lib/python3.7/dist-packages (from aiohttp<4,>=3.7.4.post0->web3) (22.1.0)\n",
            "Requirement already satisfied: charset-normalizer<3.0,>=2.0 in /usr/local/lib/python3.7/dist-packages (from aiohttp<4,>=3.7.4.post0->web3) (2.1.1)\n",
            "Requirement already satisfied: aiosignal>=1.1.2 in /usr/local/lib/python3.7/dist-packages (from aiohttp<4,>=3.7.4.post0->web3) (1.2.0)\n",
            "Requirement already satisfied: asynctest==0.13.0 in /usr/local/lib/python3.7/dist-packages (from aiohttp<4,>=3.7.4.post0->web3) (0.13.0)\n",
            "Requirement already satisfied: parsimonious<0.9.0,>=0.8.0 in /usr/local/lib/python3.7/dist-packages (from eth-abi<3.0.0,>=2.0.0b6->web3) (0.8.1)\n",
            "Collecting rlp<3,>=1.0.0\n",
            "  Using cached rlp-2.0.1-py2.py3-none-any.whl (20 kB)\n",
            "Collecting eth-keyfile<0.6.0,>=0.5.0\n",
            "  Using cached eth_keyfile-0.5.1-py3-none-any.whl (8.3 kB)\n",
            "Requirement already satisfied: bitarray<3,>=1.2.1 in /usr/local/lib/python3.7/dist-packages (from eth-account<0.6.0,>=0.5.9->web3) (2.6.0)\n",
            "Collecting eth-keys<0.4.0,>=0.3.4\n",
            "  Using cached eth_keys-0.3.4-py3-none-any.whl (21 kB)\n",
            "Requirement already satisfied: pycryptodome<4,>=3.6.6 in /usr/local/lib/python3.7/dist-packages (from eth-hash[pycryptodome]<1.0.0,>=0.2.0->web3) (3.15.0)\n",
            "Requirement already satisfied: cytoolz<1.0.0,>=0.9.0 in /usr/local/lib/python3.7/dist-packages (from eth-keyfile<0.6.0,>=0.5.0->eth-account<0.6.0,>=0.5.9->web3) (0.12.0)\n",
            "Requirement already satisfied: toolz>=0.8.0 in /usr/local/lib/python3.7/dist-packages (from cytoolz<1.0.0,>=0.9.0->eth-keyfile<0.6.0,>=0.5.0->eth-account<0.6.0,>=0.5.9->web3) (0.12.0)\n",
            "Requirement already satisfied: pyrsistent!=0.17.0,!=0.17.1,!=0.17.2,>=0.14.0 in /usr/local/lib/python3.7/dist-packages (from jsonschema<5,>=3.2.0->web3) (0.18.1)\n",
            "Requirement already satisfied: importlib-metadata in /usr/local/lib/python3.7/dist-packages (from jsonschema<5,>=3.2.0->web3) (4.13.0)\n",
            "Requirement already satisfied: importlib-resources>=1.4.0 in /usr/local/lib/python3.7/dist-packages (from jsonschema<5,>=3.2.0->web3) (5.10.0)\n",
            "Requirement already satisfied: zipp>=3.1.0 in /usr/local/lib/python3.7/dist-packages (from importlib-resources>=1.4.0->jsonschema<5,>=3.2.0->web3) (3.10.0)\n",
            "Requirement already satisfied: base58 in /usr/local/lib/python3.7/dist-packages (from multiaddr>=0.0.7->ipfshttpclient==0.8.0a2->web3) (2.1.1)\n",
            "Requirement already satisfied: netaddr in /usr/local/lib/python3.7/dist-packages (from multiaddr>=0.0.7->ipfshttpclient==0.8.0a2->web3) (0.8.0)\n",
            "Requirement already satisfied: six in /usr/local/lib/python3.7/dist-packages (from multiaddr>=0.0.7->ipfshttpclient==0.8.0a2->web3) (1.15.0)\n",
            "Requirement already satisfied: varint in /usr/local/lib/python3.7/dist-packages (from multiaddr>=0.0.7->ipfshttpclient==0.8.0a2->web3) (1.0.2)\n",
            "Requirement already satisfied: chardet<4,>=3.0.2 in /usr/local/lib/python3.7/dist-packages (from requests<3.0.0,>=2.16.0->web3) (3.0.4)\n",
            "Requirement already satisfied: urllib3!=1.25.0,!=1.25.1,<1.26,>=1.21.1 in /usr/local/lib/python3.7/dist-packages (from requests<3.0.0,>=2.16.0->web3) (1.24.3)\n",
            "Requirement already satisfied: certifi>=2017.4.17 in /usr/local/lib/python3.7/dist-packages (from requests<3.0.0,>=2.16.0->web3) (2022.9.24)\n",
            "Requirement already satisfied: idna<3,>=2.5 in /usr/local/lib/python3.7/dist-packages (from requests<3.0.0,>=2.16.0->web3) (2.10)\n",
            "Installing collected packages: eth-typing, eth-utils, rlp, eth-keys, eth-rlp, eth-keyfile, eth-abi, eth-account\n",
            "  Attempting uninstall: eth-typing\n",
            "    Found existing installation: eth-typing 3.2.0\n",
            "    Uninstalling eth-typing-3.2.0:\n",
            "      Successfully uninstalled eth-typing-3.2.0\n",
            "  Attempting uninstall: eth-utils\n",
            "    Found existing installation: eth-utils 2.0.0\n",
            "    Uninstalling eth-utils-2.0.0:\n",
            "      Successfully uninstalled eth-utils-2.0.0\n",
            "  Attempting uninstall: rlp\n",
            "    Found existing installation: rlp 3.0.0\n",
            "    Uninstalling rlp-3.0.0:\n",
            "      Successfully uninstalled rlp-3.0.0\n",
            "  Attempting uninstall: eth-keys\n",
            "    Found existing installation: eth-keys 0.4.0\n",
            "    Uninstalling eth-keys-0.4.0:\n",
            "      Successfully uninstalled eth-keys-0.4.0\n",
            "  Attempting uninstall: eth-rlp\n",
            "    Found existing installation: eth-rlp 0.3.0\n",
            "    Uninstalling eth-rlp-0.3.0:\n",
            "      Successfully uninstalled eth-rlp-0.3.0\n",
            "  Attempting uninstall: eth-keyfile\n",
            "    Found existing installation: eth-keyfile 0.6.0\n",
            "    Uninstalling eth-keyfile-0.6.0:\n",
            "      Successfully uninstalled eth-keyfile-0.6.0\n",
            "  Attempting uninstall: eth-abi\n",
            "    Found existing installation: eth-abi 3.0.1\n",
            "    Uninstalling eth-abi-3.0.1:\n",
            "      Successfully uninstalled eth-abi-3.0.1\n",
            "  Attempting uninstall: eth-account\n",
            "    Found existing installation: eth-account 0.7.0\n",
            "    Uninstalling eth-account-0.7.0:\n",
            "      Successfully uninstalled eth-account-0.7.0\n",
            "\u001b[31mERROR: pip's dependency resolver does not currently take into account all the packages that are installed. This behaviour is the source of the following dependency conflicts.\n",
            "eth-tester 0.7.0b1 requires eth-abi<4.0.0,>=3.0.0, but you have eth-abi 2.2.0 which is incompatible.\n",
            "eth-tester 0.7.0b1 requires eth-account<0.8.0,>=0.6.0, but you have eth-account 0.5.9 which is incompatible.\n",
            "eth-tester 0.7.0b1 requires eth-keys<0.5.0,>=0.4.0, but you have eth-keys 0.3.4 which is incompatible.\n",
            "eth-tester 0.7.0b1 requires eth-utils<3.0.0,>=2.0.0, but you have eth-utils 1.10.0 which is incompatible.\n",
            "eth-tester 0.7.0b1 requires rlp<4,>=3.0.0, but you have rlp 2.0.1 which is incompatible.\u001b[0m\n",
            "Successfully installed eth-abi-2.2.0 eth-account-0.5.9 eth-keyfile-0.5.1 eth-keys-0.3.4 eth-rlp-0.2.1 eth-typing-2.3.0 eth-utils-1.10.0 rlp-2.0.1\n",
            "Looking in indexes: https://pypi.org/simple, https://us-python.pkg.dev/colab-wheels/public/simple/\n",
            "Requirement already satisfied: eth-tester in /usr/local/lib/python3.7/dist-packages (0.7.0b1)\n",
            "Collecting eth-utils<3.0.0,>=2.0.0\n",
            "  Using cached eth_utils-2.0.0-py3-none-any.whl (24 kB)\n",
            "Collecting rlp<4,>=3.0.0\n",
            "  Using cached rlp-3.0.0-py2.py3-none-any.whl (20 kB)\n",
            "Collecting eth-abi<4.0.0,>=3.0.0\n",
            "  Using cached eth_abi-3.0.1-py3-none-any.whl (28 kB)\n",
            "Collecting eth-account<0.8.0,>=0.6.0\n",
            "  Using cached eth_account-0.7.0-py3-none-any.whl (102 kB)\n",
            "Requirement already satisfied: semantic-version<3.0.0,>=2.6.0 in /usr/local/lib/python3.7/dist-packages (from eth-tester) (2.10.0)\n",
            "Collecting eth-keys<0.5.0,>=0.4.0\n",
            "  Using cached eth_keys-0.4.0-py3-none-any.whl (21 kB)\n",
            "Collecting eth-typing<4.0.0,>=3.0.0\n",
            "  Using cached eth_typing-3.2.0-py3-none-any.whl (6.3 kB)\n",
            "Requirement already satisfied: parsimonious<0.9.0,>=0.8.0 in /usr/local/lib/python3.7/dist-packages (from eth-abi<4.0.0,>=3.0.0->eth-tester) (0.8.1)\n",
            "Collecting eth-rlp<1,>=0.3.0\n",
            "  Using cached eth_rlp-0.3.0-py3-none-any.whl (5.0 kB)\n",
            "Collecting eth-keyfile<0.7.0,>=0.6.0\n",
            "  Using cached eth_keyfile-0.6.0-py3-none-any.whl (6.6 kB)\n",
            "Requirement already satisfied: hexbytes<1,>=0.1.0 in /usr/local/lib/python3.7/dist-packages (from eth-account<0.8.0,>=0.6.0->eth-tester) (0.3.0)\n",
            "Requirement already satisfied: bitarray<3,>=2.4.0 in /usr/local/lib/python3.7/dist-packages (from eth-account<0.8.0,>=0.6.0->eth-tester) (2.6.0)\n",
            "Requirement already satisfied: pycryptodome<4,>=3.6.6 in /usr/local/lib/python3.7/dist-packages (from eth-keyfile<0.7.0,>=0.6.0->eth-account<0.8.0,>=0.6.0->eth-tester) (3.15.0)\n",
            "Requirement already satisfied: eth-hash<0.4.0,>=0.3.1 in /usr/local/lib/python3.7/dist-packages (from eth-utils<3.0.0,>=2.0.0->eth-tester) (0.3.3)\n",
            "Requirement already satisfied: cytoolz<1.0.0,>=0.10.1 in /usr/local/lib/python3.7/dist-packages (from eth-utils<3.0.0,>=2.0.0->eth-tester) (0.12.0)\n",
            "Requirement already satisfied: toolz>=0.8.0 in /usr/local/lib/python3.7/dist-packages (from cytoolz<1.0.0,>=0.10.1->eth-utils<3.0.0,>=2.0.0->eth-tester) (0.12.0)\n",
            "Requirement already satisfied: six>=1.9.0 in /usr/local/lib/python3.7/dist-packages (from parsimonious<0.9.0,>=0.8.0->eth-abi<4.0.0,>=3.0.0->eth-tester) (1.15.0)\n",
            "Installing collected packages: eth-typing, eth-utils, rlp, eth-keys, eth-rlp, eth-keyfile, eth-abi, eth-account\n",
            "  Attempting uninstall: eth-typing\n",
            "    Found existing installation: eth-typing 2.3.0\n",
            "    Uninstalling eth-typing-2.3.0:\n",
            "      Successfully uninstalled eth-typing-2.3.0\n",
            "  Attempting uninstall: eth-utils\n",
            "    Found existing installation: eth-utils 1.10.0\n",
            "    Uninstalling eth-utils-1.10.0:\n",
            "      Successfully uninstalled eth-utils-1.10.0\n",
            "  Attempting uninstall: rlp\n",
            "    Found existing installation: rlp 2.0.1\n",
            "    Uninstalling rlp-2.0.1:\n",
            "      Successfully uninstalled rlp-2.0.1\n",
            "  Attempting uninstall: eth-keys\n",
            "    Found existing installation: eth-keys 0.3.4\n",
            "    Uninstalling eth-keys-0.3.4:\n",
            "      Successfully uninstalled eth-keys-0.3.4\n",
            "  Attempting uninstall: eth-rlp\n",
            "    Found existing installation: eth-rlp 0.2.1\n",
            "    Uninstalling eth-rlp-0.2.1:\n",
            "      Successfully uninstalled eth-rlp-0.2.1\n",
            "  Attempting uninstall: eth-keyfile\n",
            "    Found existing installation: eth-keyfile 0.5.1\n",
            "    Uninstalling eth-keyfile-0.5.1:\n",
            "      Successfully uninstalled eth-keyfile-0.5.1\n",
            "  Attempting uninstall: eth-abi\n",
            "    Found existing installation: eth-abi 2.2.0\n",
            "    Uninstalling eth-abi-2.2.0:\n",
            "      Successfully uninstalled eth-abi-2.2.0\n",
            "  Attempting uninstall: eth-account\n",
            "    Found existing installation: eth-account 0.5.9\n",
            "    Uninstalling eth-account-0.5.9:\n",
            "      Successfully uninstalled eth-account-0.5.9\n",
            "\u001b[31mERROR: pip's dependency resolver does not currently take into account all the packages that are installed. This behaviour is the source of the following dependency conflicts.\n",
            "web3 5.31.1 requires eth-abi<3.0.0,>=2.0.0b6, but you have eth-abi 3.0.1 which is incompatible.\n",
            "web3 5.31.1 requires eth-account<0.6.0,>=0.5.9, but you have eth-account 0.7.0 which is incompatible.\n",
            "web3 5.31.1 requires eth-rlp<0.3, but you have eth-rlp 0.3.0 which is incompatible.\n",
            "web3 5.31.1 requires eth-typing<3.0.0,>=2.0.0, but you have eth-typing 3.2.0 which is incompatible.\n",
            "web3 5.31.1 requires eth-utils<2.0.0,>=1.9.5, but you have eth-utils 2.0.0 which is incompatible.\u001b[0m\n",
            "Successfully installed eth-abi-3.0.1 eth-account-0.7.0 eth-keyfile-0.6.0 eth-keys-0.4.0 eth-rlp-0.3.0 eth-typing-3.2.0 eth-utils-2.0.0 rlp-3.0.0\n"
          ]
        }
      ]
    },
    {
      "cell_type": "code",
      "source": [
        "!pip install py-solc-x\n",
        "!pip install python-dotenv\n",
        " "
      ],
      "metadata": {
        "colab": {
          "base_uri": "https://localhost:8080/"
        },
        "id": "BEZPWJ_KSZc3",
        "outputId": "77e3047e-3b0f-476c-979b-5452d6efeab0"
      },
      "execution_count": null,
      "outputs": [
        {
          "output_type": "stream",
          "name": "stdout",
          "text": [
            "Looking in indexes: https://pypi.org/simple, https://us-python.pkg.dev/colab-wheels/public/simple/\n",
            "Requirement already satisfied: py-solc-x in /usr/local/lib/python3.7/dist-packages (1.1.1)\n",
            "Requirement already satisfied: semantic-version<3,>=2.8.1 in /usr/local/lib/python3.7/dist-packages (from py-solc-x) (2.10.0)\n",
            "Requirement already satisfied: requests<3,>=2.19.0 in /usr/local/lib/python3.7/dist-packages (from py-solc-x) (2.23.0)\n",
            "Requirement already satisfied: idna<3,>=2.5 in /usr/local/lib/python3.7/dist-packages (from requests<3,>=2.19.0->py-solc-x) (2.10)\n",
            "Requirement already satisfied: chardet<4,>=3.0.2 in /usr/local/lib/python3.7/dist-packages (from requests<3,>=2.19.0->py-solc-x) (3.0.4)\n",
            "Requirement already satisfied: urllib3!=1.25.0,!=1.25.1,<1.26,>=1.21.1 in /usr/local/lib/python3.7/dist-packages (from requests<3,>=2.19.0->py-solc-x) (1.24.3)\n",
            "Requirement already satisfied: certifi>=2017.4.17 in /usr/local/lib/python3.7/dist-packages (from requests<3,>=2.19.0->py-solc-x) (2022.9.24)\n",
            "Looking in indexes: https://pypi.org/simple, https://us-python.pkg.dev/colab-wheels/public/simple/\n",
            "Requirement already satisfied: python-dotenv in /usr/local/lib/python3.7/dist-packages (0.21.0)\n"
          ]
        }
      ]
    },
    {
      "cell_type": "code",
      "metadata": {
        "id": "JVg14kLq4myG"
      },
      "source": [
        "from eth_utils import address\n",
        "from web3 import Web3\n",
        "import os\n",
        "import solcx\n",
        "from solcx import compile_standard, install_solc, compile_source\n",
        "from dotenv import load_dotenv\n",
        "import json"
      ],
      "execution_count": null,
      "outputs": []
    },
    {
      "cell_type": "code",
      "source": [
        "solcx.get_installable_solc_versions()\n",
        "solcx.install_solc('0.8.7')"
      ],
      "metadata": {
        "colab": {
          "base_uri": "https://localhost:8080/"
        },
        "id": "47xF6-DBsPVW",
        "outputId": "b763c5a3-2c44-4c94-fb7e-d3baab1b54e7"
      },
      "execution_count": null,
      "outputs": [
        {
          "output_type": "execute_result",
          "data": {
            "text/plain": [
              "Version('0.8.7')"
            ]
          },
          "metadata": {},
          "execution_count": 7
        }
      ]
    },
    {
      "cell_type": "code",
      "metadata": {
        "id": "4gJoPtr142cv",
        "colab": {
          "base_uri": "https://localhost:8080/"
        },
        "outputId": "669a59c5-13c0-41ca-dc7e-c6093519f2d5"
      },
      "source": [
        "# !pip install --force-reinstall jsonschema==3.2.0\n",
        "!pip install py-evm"
      ],
      "execution_count": null,
      "outputs": [
        {
          "output_type": "stream",
          "name": "stdout",
          "text": [
            "Looking in indexes: https://pypi.org/simple, https://us-python.pkg.dev/colab-wheels/public/simple/\n",
            "Collecting py-evm\n",
            "  Downloading py_evm-0.6.0a1-py3-none-any.whl (279 kB)\n",
            "\u001b[K     |████████████████████████████████| 279 kB 5.0 MB/s \n",
            "\u001b[?25hRequirement already satisfied: rlp<4,>=3 in /usr/local/lib/python3.7/dist-packages (from py-evm) (3.0.0)\n",
            "Collecting eth-bloom<2.0.0,>=1.0.3\n",
            "  Downloading eth_bloom-1.0.4-py3-none-any.whl (5.4 kB)\n",
            "Collecting mypy-extensions<1.0.0,>=0.4.1\n",
            "  Downloading mypy_extensions-0.4.3-py2.py3-none-any.whl (4.5 kB)\n",
            "Collecting pyethash<1.0.0,>=0.1.27\n",
            "  Downloading pyethash-0.1.27.tar.gz (38 kB)\n",
            "Collecting trie<3,>=2.0.0\n",
            "  Downloading trie-2.0.2-py3-none-any.whl (38 kB)\n",
            "Collecting py-ecc<7.0.0,>=1.4.7\n",
            "  Downloading py_ecc-6.0.0-py3-none-any.whl (43 kB)\n",
            "\u001b[K     |████████████████████████████████| 43 kB 1.8 MB/s \n",
            "\u001b[?25hRequirement already satisfied: cached-property<2,>=1.5.1 in /usr/local/lib/python3.7/dist-packages (from py-evm) (1.5.2)\n",
            "Requirement already satisfied: lru-dict>=1.1.6 in /usr/local/lib/python3.7/dist-packages (from py-evm) (1.1.8)\n",
            "Requirement already satisfied: eth-typing<4.0.0,>=3.1.0 in /usr/local/lib/python3.7/dist-packages (from py-evm) (3.2.0)\n",
            "Requirement already satisfied: eth-keys<0.5.0,>=0.4.0 in /usr/local/lib/python3.7/dist-packages (from py-evm) (0.4.0)\n",
            "Requirement already satisfied: eth-utils<3.0.0,>=2.0.0 in /usr/local/lib/python3.7/dist-packages (from py-evm) (2.0.0)\n",
            "Requirement already satisfied: eth-hash[pycryptodome]<0.4.0,>=0.3.1 in /usr/local/lib/python3.7/dist-packages (from eth-bloom<2.0.0,>=1.0.3->py-evm) (0.3.3)\n",
            "Requirement already satisfied: pycryptodome<4,>=3.6.6 in /usr/local/lib/python3.7/dist-packages (from eth-hash[pycryptodome]<0.4.0,>=0.3.1->eth-bloom<2.0.0,>=1.0.3->py-evm) (3.15.0)\n",
            "Requirement already satisfied: cytoolz<1.0.0,>=0.10.1 in /usr/local/lib/python3.7/dist-packages (from eth-utils<3.0.0,>=2.0.0->py-evm) (0.12.0)\n",
            "Requirement already satisfied: toolz>=0.8.0 in /usr/local/lib/python3.7/dist-packages (from cytoolz<1.0.0,>=0.10.1->eth-utils<3.0.0,>=2.0.0->py-evm) (0.12.0)\n",
            "Requirement already satisfied: typing-extensions<5,>=4.0.0 in /usr/local/lib/python3.7/dist-packages (from trie<3,>=2.0.0->py-evm) (4.1.1)\n",
            "Requirement already satisfied: sortedcontainers<3,>=2.1.0 in /usr/local/lib/python3.7/dist-packages (from trie<3,>=2.0.0->py-evm) (2.4.0)\n",
            "Requirement already satisfied: hexbytes>=0.2.0 in /usr/local/lib/python3.7/dist-packages (from trie<3,>=2.0.0->py-evm) (0.3.0)\n",
            "Building wheels for collected packages: pyethash\n",
            "  Building wheel for pyethash (setup.py) ... \u001b[?25l\u001b[?25hdone\n",
            "  Created wheel for pyethash: filename=pyethash-0.1.27-cp37-cp37m-linux_x86_64.whl size=51993 sha256=0395cc33210ef5f8f30eb6617ef8f2a492fee2ef0120ffe0e845f500f6576e39\n",
            "  Stored in directory: /root/.cache/pip/wheels/01/ce/8f/3604e244cd91a6852b37ca0ab6eada34106081b001bdf6d487\n",
            "Successfully built pyethash\n",
            "Installing collected packages: mypy-extensions, trie, pyethash, py-ecc, eth-bloom, py-evm\n",
            "Successfully installed eth-bloom-1.0.4 mypy-extensions-0.4.3 py-ecc-6.0.0 py-evm-0.6.0a1 pyethash-0.1.27 trie-2.0.2\n"
          ]
        }
      ]
    },
    {
      "cell_type": "code",
      "source": [
        "cs = compile_source(\n",
        "    '''\n",
        "//SPDX-License-Identifier: GPL-2.0-or-later\n",
        "\n",
        "pragma solidity ^0.8.7;\n",
        "\n",
        "contract Message{\n",
        "    address public true_sender;\n",
        "    uint public minimumContribution;\n",
        "    string description;\n",
        "    uint value;\n",
        "    uint public bal;\n",
        "    uint prof;\n",
        "    uint approverCount;\n",
        "    uint disapproverCount;\n",
        "    address[] public approvers;\n",
        "    address[] public disapprovers;\n",
        "\n",
        "        \n",
        "\tfunction FakeMessage(string memory descript)public payable{\n",
        "\t\ttrue_sender=msg.sender;\n",
        "\t\tdescription=descript;\n",
        "\t\tapprovers.push(true_sender);\n",
        "\t}\n",
        "\tfunction approveMessage()public payable{\n",
        "\t\trequire(msg.sender!=true_sender);\n",
        "\t\tapprovers.push(msg.sender);\n",
        "\t\tapproverCount++;\n",
        "\t}\n",
        "\tfunction disapproveMessage()public payable{\n",
        "\t\trequire(msg.sender!=true_sender);\n",
        "\t\tdisapprovers.push(msg.sender);\n",
        "\t\tdisapproverCount++;\n",
        "\t}\n",
        "\tfunction contractBalance() public returns (uint) {\n",
        "\t\tbal = address(this).balance;\n",
        "    \treturn bal;\n",
        "\t}\n",
        "\t\n",
        "\tfunction VerifyMessage(bool validity) public payable{\n",
        "\t\tbal=address(this).balance;\n",
        "\t\tif(validity)\n",
        "\t\t{\n",
        "\t\t\tbal=address(this).balance;\n",
        "\t\t\tprof=bal/approverCount;\n",
        "\t\t\t\n",
        "\t\t\tfor(uint i=0;i<approverCount;i++)\n",
        "\t\t\t{\n",
        "\t\t\t\taddress payable apr = payable(approvers[i]);\n",
        "\t\t\t\tapr.transfer(prof);\n",
        "\t\t\t}\n",
        "\t\t}\n",
        "\t\telse\n",
        "\t\t{\n",
        "\t\t\tbal=address(this).balance;\n",
        "\t\t\tprof=bal/disapproverCount;\n",
        "\t\t\tfor(uint j=0;j<disapproverCount;j++)\n",
        "\t\t\t{\n",
        "\t\t\t\taddress payable dis = payable(disapprovers[j]);\n",
        "\t\t\t\tdis.transfer(prof);\n",
        "\t\t\t}\n",
        "\t\t}\n",
        "\t}\n",
        "\n",
        "}\n",
        "    ''', output_values = ['abi' , 'bin']\n",
        ")"
      ],
      "metadata": {
        "id": "Yvn6gr5OrB5b"
      },
      "execution_count": null,
      "outputs": []
    },
    {
      "cell_type": "code",
      "source": [
        "contract_id, contract_interface = cs.popitem()"
      ],
      "metadata": {
        "id": "HyxutYl2rB2C"
      },
      "execution_count": null,
      "outputs": []
    },
    {
      "cell_type": "code",
      "source": [
        "abi = contract_interface['abi']\n",
        "bytecode = contract_interface['bin']"
      ],
      "metadata": {
        "id": "ymVEjge4l6KC"
      },
      "execution_count": null,
      "outputs": []
    },
    {
      "cell_type": "code",
      "source": [
        "w3 = Web3(Web3.HTTPProvider('https://fragrant-neat-energy.ethereum-goerli.discover.quiknode.pro/35ab594f586da8f602627988f3fd237333826704/'))\n",
        "fakeMessage = w3.eth.contract(abi = abi, bytecode = bytecode)\n",
        "fakeMessage"
      ],
      "metadata": {
        "colab": {
          "base_uri": "https://localhost:8080/"
        },
        "id": "xvuXgFZcQLRz",
        "outputId": "af7fd431-0cfd-4339-db48-6e15c4a9ac16"
      },
      "execution_count": null,
      "outputs": [
        {
          "output_type": "execute_result",
          "data": {
            "text/plain": [
              "web3._utils.datatypes.Contract"
            ]
          },
          "metadata": {},
          "execution_count": 12
        }
      ]
    },
    {
      "cell_type": "code",
      "source": [
        "nonce = w3.eth.get_transaction_count('0x4add2a5b96D7A1123c5d28A8626BcA588F6fC24D')"
      ],
      "metadata": {
        "id": "yyTzGnHmPI_h"
      },
      "execution_count": null,
      "outputs": []
    },
    {
      "cell_type": "code",
      "source": [
        "nonce"
      ],
      "metadata": {
        "colab": {
          "base_uri": "https://localhost:8080/"
        },
        "id": "OdTjMzu2PTOG",
        "outputId": "8da7839d-b15f-4c9d-9e87-2fe631835686"
      },
      "execution_count": null,
      "outputs": [
        {
          "output_type": "execute_result",
          "data": {
            "text/plain": [
              "0"
            ]
          },
          "metadata": {},
          "execution_count": 62
        }
      ]
    },
    {
      "cell_type": "code",
      "source": [
        "transaction = fakeMessage.constructor().build_transaction(\n",
        "  {\n",
        "    \"gasPrice\": w3.eth.gas_price,\n",
        "    'chainId': 5,\n",
        "    \"from\": '0x4add2a5b96D7A1123c5d28A8626BcA588F6fC24D',\n",
        "    \"nonce\": nonce\n",
        "  }\n",
        ")"
      ],
      "metadata": {
        "id": "N63H4q5hnouk"
      },
      "execution_count": null,
      "outputs": []
    },
    {
      "cell_type": "code",
      "source": [
        "transaction"
      ],
      "metadata": {
        "colab": {
          "base_uri": "https://localhost:8080/"
        },
        "id": "WcDEZeOAP8HI",
        "outputId": "edbd44e7-a838-411a-c9b9-0fc932502430"
      },
      "execution_count": null,
      "outputs": [
        {
          "output_type": "execute_result",
          "data": {
            "text/plain": [
              "{'value': 0,\n",
              " 'gas': 724357,\n",
              " 'gasPrice': 25036540435,\n",
              " 'chainId': 5,\n",
              " 'from': '0x4add2a5b96D7A1123c5d28A8626BcA588F6fC24D',\n",
              " 'nonce': 0,\n",
              " 'data': '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',\n",
              " 'to': b''}"
            ]
          },
          "metadata": {},
          "execution_count": 64
        }
      ]
    },
    {
      "cell_type": "code",
      "source": [
        "pKey = '0x' + 'e0404830c8b9d60cc7cb2e6b55ccfbf2851af4bb751693e3533803be2cbb9292'\n",
        "signed_transaction = w3.eth.account.sign_transaction(transaction, private_key = pKey)\n",
        "signed_transaction"
      ],
      "metadata": {
        "colab": {
          "base_uri": "https://localhost:8080/"
        },
        "id": "8oUxO3iBQhiY",
        "outputId": "28ef5355-9f46-4dfb-836b-125fe8d128a8"
      },
      "execution_count": null,
      "outputs": [
        {
          "output_type": "execute_result",
          "data": {
            "text/plain": [
              "SignedTransaction(rawTransaction=HexBytes('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'), hash=HexBytes('0x7f1ebabd5a6088fc163e6083d27f8fade4efa4a35121ebbe97bd2e3820c47f95'), r=68003271074933662181939234682714854011180103902313962240608031261516527016931, s=6851373669532459474854114000461802306762179562406980807023068085483724779909, v=46)"
            ]
          },
          "metadata": {},
          "execution_count": 65
        }
      ]
    },
    {
      "cell_type": "code",
      "source": [
        "transaction_hash = ''\n",
        "transaction_hash = w3.eth.send_raw_transaction(signed_transaction.rawTransaction)"
      ],
      "metadata": {
        "id": "VAGHPh33SuVS"
      },
      "execution_count": null,
      "outputs": []
    },
    {
      "cell_type": "code",
      "source": [
        "transaction_receipt = w3.eth.wait_for_transaction_receipt(transaction_hash)"
      ],
      "metadata": {
        "id": "Em43ScmhpiQl"
      },
      "execution_count": null,
      "outputs": []
    },
    {
      "cell_type": "code",
      "source": [
        "contract_instance = w3.eth.contract(address = transaction_receipt.contractAddress, abi = abi)\n",
        "contract_instance"
      ],
      "metadata": {
        "colab": {
          "base_uri": "https://localhost:8080/"
        },
        "id": "TvjLtLjvVEu5",
        "outputId": "895f1311-c999-4768-f8d3-18ccaf893815"
      },
      "execution_count": null,
      "outputs": [
        {
          "output_type": "execute_result",
          "data": {
            "text/plain": [
              "<web3._utils.datatypes.Contract at 0x7fbd413b6950>"
            ]
          },
          "metadata": {},
          "execution_count": 72
        }
      ]
    },
    {
      "cell_type": "code",
      "source": [
        "fakeMessageContract = w3.eth.contract(address = transaction_receipt.contractAddress, abi = abi)"
      ],
      "metadata": {
        "id": "80kFlcOJqCyU"
      },
      "execution_count": null,
      "outputs": []
    },
    {
      "cell_type": "code",
      "source": [
        "fakeMessageContract.functions.FakeMessage('Hi')"
      ],
      "metadata": {
        "colab": {
          "base_uri": "https://localhost:8080/"
        },
        "id": "YoaOKvkfYThS",
        "outputId": "67126468-5c3e-45c6-ae59-8b79da5ad11e"
      },
      "execution_count": null,
      "outputs": [
        {
          "output_type": "execute_result",
          "data": {
            "text/plain": [
              "<Function FakeMessage(string) bound to ('Hi',)>"
            ]
          },
          "metadata": {},
          "execution_count": 93
        }
      ]
    },
    {
      "cell_type": "code",
      "source": [
        "w3 = Web3(Web3.HTTPProvider('https://fragrant-neat-energy.ethereum-goerli.discover.quiknode.pro/35ab594f586da8f602627988f3fd237333826704/'))\n",
        "fakeMessage = w3.eth.contract(abi = abi, bytecode = bytecode)\n",
        "fakeMessage\n",
        "fakeMessageContract.functions.approveMessage().call()"
      ],
      "metadata": {
        "colab": {
          "base_uri": "https://localhost:8080/",
          "height": 365
        },
        "id": "byZ3YQDVZCzg",
        "outputId": "8d889cd9-8de1-41e1-d89e-677d281362a1"
      },
      "execution_count": null,
      "outputs": [
        {
          "output_type": "stream",
          "name": "stderr",
          "text": [
            "/usr/local/lib/python3.7/dist-packages/eth_abi/codec.py:94: DeprecationWarning: abi.encode_abi() and abi.encode_abi_packed() are deprecated and will be removed in version 4.0.0 in favor of abi.encode() and abi.encode_packed(), respectively\n",
            "  category=DeprecationWarning,\n"
          ]
        },
        {
          "output_type": "error",
          "ename": "ContractLogicError",
          "evalue": "ignored",
          "traceback": [
            "\u001b[0;31m---------------------------------------------------------------------------\u001b[0m",
            "\u001b[0;31mContractLogicError\u001b[0m                        Traceback (most recent call last)",
            "\u001b[0;32m<ipython-input-94-e94595ebaf80>\u001b[0m in \u001b[0;36m<module>\u001b[0;34m\u001b[0m\n\u001b[0;32m----> 1\u001b[0;31m \u001b[0mfakeMessageContract\u001b[0m\u001b[0;34m.\u001b[0m\u001b[0mfunctions\u001b[0m\u001b[0;34m.\u001b[0m\u001b[0mapproveMessage\u001b[0m\u001b[0;34m(\u001b[0m\u001b[0;34m)\u001b[0m\u001b[0;34m.\u001b[0m\u001b[0mcall\u001b[0m\u001b[0;34m(\u001b[0m\u001b[0;34m)\u001b[0m\u001b[0;34m\u001b[0m\u001b[0;34m\u001b[0m\u001b[0m\n\u001b[0m",
            "\u001b[0;32m/usr/local/lib/python3.7/dist-packages/web3/contract.py\u001b[0m in \u001b[0;36mcall\u001b[0;34m(self, transaction, block_identifier, state_override)\u001b[0m\n\u001b[1;32m    979\u001b[0m             \u001b[0mstate_override\u001b[0m\u001b[0;34m,\u001b[0m\u001b[0;34m\u001b[0m\u001b[0;34m\u001b[0m\u001b[0m\n\u001b[1;32m    980\u001b[0m             \u001b[0;34m*\u001b[0m\u001b[0mself\u001b[0m\u001b[0;34m.\u001b[0m\u001b[0margs\u001b[0m\u001b[0;34m,\u001b[0m\u001b[0;34m\u001b[0m\u001b[0;34m\u001b[0m\u001b[0m\n\u001b[0;32m--> 981\u001b[0;31m             \u001b[0;34m**\u001b[0m\u001b[0mself\u001b[0m\u001b[0;34m.\u001b[0m\u001b[0mkwargs\u001b[0m\u001b[0;34m\u001b[0m\u001b[0;34m\u001b[0m\u001b[0m\n\u001b[0m\u001b[1;32m    982\u001b[0m         )\n\u001b[1;32m    983\u001b[0m \u001b[0;34m\u001b[0m\u001b[0m\n",
            "\u001b[0;32m/usr/local/lib/python3.7/dist-packages/web3/contract.py\u001b[0m in \u001b[0;36mcall_contract_function\u001b[0;34m(web3, address, normalizers, function_identifier, transaction, block_id, contract_abi, fn_abi, state_override, *args, **kwargs)\u001b[0m\n\u001b[1;32m   1526\u001b[0m         \u001b[0mcall_transaction\u001b[0m\u001b[0;34m,\u001b[0m\u001b[0;34m\u001b[0m\u001b[0;34m\u001b[0m\u001b[0m\n\u001b[1;32m   1527\u001b[0m         \u001b[0mblock_identifier\u001b[0m\u001b[0;34m=\u001b[0m\u001b[0mblock_id\u001b[0m\u001b[0;34m,\u001b[0m\u001b[0;34m\u001b[0m\u001b[0;34m\u001b[0m\u001b[0m\n\u001b[0;32m-> 1528\u001b[0;31m         \u001b[0mstate_override\u001b[0m\u001b[0;34m=\u001b[0m\u001b[0mstate_override\u001b[0m\u001b[0;34m,\u001b[0m\u001b[0;34m\u001b[0m\u001b[0;34m\u001b[0m\u001b[0m\n\u001b[0m\u001b[1;32m   1529\u001b[0m     )\n\u001b[1;32m   1530\u001b[0m \u001b[0;34m\u001b[0m\u001b[0m\n",
            "\u001b[0;32m/usr/local/lib/python3.7/dist-packages/web3/module.py\u001b[0m in \u001b[0;36mcaller\u001b[0;34m(*args, **kwargs)\u001b[0m\n\u001b[1;32m     58\u001b[0m                                              \u001b[0mparams\u001b[0m\u001b[0;34m,\u001b[0m\u001b[0;34m\u001b[0m\u001b[0;34m\u001b[0m\u001b[0m\n\u001b[1;32m     59\u001b[0m                                              \u001b[0merror_formatters\u001b[0m\u001b[0;34m,\u001b[0m\u001b[0;34m\u001b[0m\u001b[0;34m\u001b[0m\u001b[0m\n\u001b[0;32m---> 60\u001b[0;31m                                              null_result_formatters)\n\u001b[0m\u001b[1;32m     61\u001b[0m         \u001b[0;32mreturn\u001b[0m \u001b[0mapply_result_formatters\u001b[0m\u001b[0;34m(\u001b[0m\u001b[0mresult_formatters\u001b[0m\u001b[0;34m,\u001b[0m \u001b[0mresult\u001b[0m\u001b[0;34m)\u001b[0m\u001b[0;34m\u001b[0m\u001b[0;34m\u001b[0m\u001b[0m\n\u001b[1;32m     62\u001b[0m     \u001b[0;32mreturn\u001b[0m \u001b[0mcaller\u001b[0m\u001b[0;34m\u001b[0m\u001b[0;34m\u001b[0m\u001b[0m\n",
            "\u001b[0;32m/usr/local/lib/python3.7/dist-packages/web3/manager.py\u001b[0m in \u001b[0;36mrequest_blocking\u001b[0;34m(self, method, params, error_formatters, null_result_formatters)\u001b[0m\n\u001b[1;32m    199\u001b[0m                                        \u001b[0mparams\u001b[0m\u001b[0;34m,\u001b[0m\u001b[0;34m\u001b[0m\u001b[0;34m\u001b[0m\u001b[0m\n\u001b[1;32m    200\u001b[0m                                        \u001b[0merror_formatters\u001b[0m\u001b[0;34m,\u001b[0m\u001b[0;34m\u001b[0m\u001b[0;34m\u001b[0m\u001b[0m\n\u001b[0;32m--> 201\u001b[0;31m                                        null_result_formatters)\n\u001b[0m\u001b[1;32m    202\u001b[0m \u001b[0;34m\u001b[0m\u001b[0m\n\u001b[1;32m    203\u001b[0m     async def coro_request(\n",
            "\u001b[0;32m/usr/local/lib/python3.7/dist-packages/web3/manager.py\u001b[0m in \u001b[0;36mformatted_response\u001b[0;34m(response, params, error_formatters, null_result_formatters)\u001b[0m\n\u001b[1;32m    168\u001b[0m     ) -> Any:\n\u001b[1;32m    169\u001b[0m         \u001b[0;32mif\u001b[0m \u001b[0;34m\"error\"\u001b[0m \u001b[0;32min\u001b[0m \u001b[0mresponse\u001b[0m\u001b[0;34m:\u001b[0m\u001b[0;34m\u001b[0m\u001b[0;34m\u001b[0m\u001b[0m\n\u001b[0;32m--> 170\u001b[0;31m             \u001b[0mapply_error_formatters\u001b[0m\u001b[0;34m(\u001b[0m\u001b[0merror_formatters\u001b[0m\u001b[0;34m,\u001b[0m \u001b[0mresponse\u001b[0m\u001b[0;34m)\u001b[0m\u001b[0;34m\u001b[0m\u001b[0;34m\u001b[0m\u001b[0m\n\u001b[0m\u001b[1;32m    171\u001b[0m             \u001b[0;32mraise\u001b[0m \u001b[0mValueError\u001b[0m\u001b[0;34m(\u001b[0m\u001b[0mresponse\u001b[0m\u001b[0;34m[\u001b[0m\u001b[0;34m\"error\"\u001b[0m\u001b[0;34m]\u001b[0m\u001b[0;34m)\u001b[0m\u001b[0;34m\u001b[0m\u001b[0;34m\u001b[0m\u001b[0m\n\u001b[1;32m    172\u001b[0m         \u001b[0;31m# NULL_RESPONSES includes None, so return False here as the default\u001b[0m\u001b[0;34m\u001b[0m\u001b[0;34m\u001b[0m\u001b[0;34m\u001b[0m\u001b[0m\n",
            "\u001b[0;32m/usr/local/lib/python3.7/dist-packages/web3/manager.py\u001b[0m in \u001b[0;36mapply_error_formatters\u001b[0;34m(error_formatters, response)\u001b[0m\n\u001b[1;32m     68\u001b[0m ) -> RPCResponse:\n\u001b[1;32m     69\u001b[0m     \u001b[0;32mif\u001b[0m \u001b[0merror_formatters\u001b[0m\u001b[0;34m:\u001b[0m\u001b[0;34m\u001b[0m\u001b[0;34m\u001b[0m\u001b[0m\n\u001b[0;32m---> 70\u001b[0;31m         \u001b[0mformatted_resp\u001b[0m \u001b[0;34m=\u001b[0m \u001b[0mpipe\u001b[0m\u001b[0;34m(\u001b[0m\u001b[0mresponse\u001b[0m\u001b[0;34m,\u001b[0m \u001b[0merror_formatters\u001b[0m\u001b[0;34m)\u001b[0m\u001b[0;34m\u001b[0m\u001b[0;34m\u001b[0m\u001b[0m\n\u001b[0m\u001b[1;32m     71\u001b[0m         \u001b[0;32mreturn\u001b[0m \u001b[0mformatted_resp\u001b[0m\u001b[0;34m\u001b[0m\u001b[0;34m\u001b[0m\u001b[0m\n\u001b[1;32m     72\u001b[0m     \u001b[0;32melse\u001b[0m\u001b[0;34m:\u001b[0m\u001b[0;34m\u001b[0m\u001b[0;34m\u001b[0m\u001b[0m\n",
            "\u001b[0;32m/usr/local/lib/python3.7/dist-packages/cytoolz/functoolz.pyx\u001b[0m in \u001b[0;36mcytoolz.functoolz.pipe\u001b[0;34m()\u001b[0m\n",
            "\u001b[0;32m/usr/local/lib/python3.7/dist-packages/cytoolz/functoolz.pyx\u001b[0m in \u001b[0;36mcytoolz.functoolz.c_pipe\u001b[0;34m()\u001b[0m\n",
            "\u001b[0;32m/usr/local/lib/python3.7/dist-packages/web3/_utils/method_formatters.py\u001b[0m in \u001b[0;36mraise_solidity_error_on_revert\u001b[0;34m(response)\u001b[0m\n\u001b[1;32m    578\u001b[0m     \u001b[0;31m# Geth Revert without error message case:\u001b[0m\u001b[0;34m\u001b[0m\u001b[0;34m\u001b[0m\u001b[0;34m\u001b[0m\u001b[0m\n\u001b[1;32m    579\u001b[0m     \u001b[0;32mif\u001b[0m \u001b[0;34m'execution reverted'\u001b[0m \u001b[0;32min\u001b[0m \u001b[0mresponse\u001b[0m\u001b[0;34m[\u001b[0m\u001b[0;34m'error'\u001b[0m\u001b[0;34m]\u001b[0m\u001b[0;34m.\u001b[0m\u001b[0mget\u001b[0m\u001b[0;34m(\u001b[0m\u001b[0;34m'message'\u001b[0m\u001b[0;34m)\u001b[0m\u001b[0;34m:\u001b[0m\u001b[0;34m\u001b[0m\u001b[0;34m\u001b[0m\u001b[0m\n\u001b[0;32m--> 580\u001b[0;31m         \u001b[0;32mraise\u001b[0m \u001b[0mContractLogicError\u001b[0m\u001b[0;34m(\u001b[0m\u001b[0;34m'execution reverted'\u001b[0m\u001b[0;34m)\u001b[0m\u001b[0;34m\u001b[0m\u001b[0;34m\u001b[0m\u001b[0m\n\u001b[0m\u001b[1;32m    581\u001b[0m \u001b[0;34m\u001b[0m\u001b[0m\n\u001b[1;32m    582\u001b[0m     \u001b[0;32mreturn\u001b[0m \u001b[0mresponse\u001b[0m\u001b[0;34m\u001b[0m\u001b[0;34m\u001b[0m\u001b[0m\n",
            "\u001b[0;31mContractLogicError\u001b[0m: execution reverted"
          ]
        }
      ]
    },
    {
      "cell_type": "code",
      "source": [
        "fakeMessageContract.functions.approvers(1)"
      ],
      "metadata": {
        "colab": {
          "base_uri": "https://localhost:8080/"
        },
        "id": "tUsAX9TocRSH",
        "outputId": "3acfe671-ffd2-410a-9e66-96eba90d19ac"
      },
      "execution_count": null,
      "outputs": [
        {
          "output_type": "execute_result",
          "data": {
            "text/plain": [
              "<Function approvers(uint256) bound to (1,)>"
            ]
          },
          "metadata": {},
          "execution_count": 92
        }
      ]
    },
    {
      "cell_type": "code",
      "source": [
        "fakeMessageContract.functions.VerifyMessage(True)"
      ],
      "metadata": {
        "colab": {
          "base_uri": "https://localhost:8080/"
        },
        "id": "XVf61ogJaQco",
        "outputId": "d70348db-efac-4d7a-c897-33fc2ded27b6"
      },
      "execution_count": null,
      "outputs": [
        {
          "output_type": "execute_result",
          "data": {
            "text/plain": [
              "<Function VerifyMessage(bool) bound to (True,)>"
            ]
          },
          "metadata": {},
          "execution_count": 85
        }
      ]
    },
    {
      "cell_type": "code",
      "source": [
        "#[\n",
        "# \t{\n",
        "# \t\t\"inputs\": [],\n",
        "# \t\t\"name\": \"approveMessage\",\n",
        "# \t\t\"outputs\": [],\n",
        "# \t\t\"stateMutability\": \"payable\",\n",
        "# \t\t\"type\": \"function\"\n",
        "# \t},\n",
        "# \t{\n",
        "# \t\t\"inputs\": [],\n",
        "# \t\t\"name\": \"contractBalance\",\n",
        "# \t\t\"outputs\": [\n",
        "# \t\t\t{\n",
        "# \t\t\t\t\"internalType\": \"uint256\",\n",
        "# \t\t\t\t\"name\": \"\",\n",
        "# \t\t\t\t\"type\": \"uint256\"\n",
        "# \t\t\t}\n",
        "# \t\t],\n",
        "# \t\t\"stateMutability\": \"nonpayable\",\n",
        "# \t\t\"type\": \"function\"\n",
        "# \t},\n",
        "# \t{\n",
        "# \t\t\"inputs\": [],\n",
        "# \t\t\"name\": \"disapproveMessage\",\n",
        "# \t\t\"outputs\": [],\n",
        "# \t\t\"stateMutability\": \"payable\",\n",
        "# \t\t\"type\": \"function\"\n",
        "# \t},\n",
        "# \t{\n",
        "# \t\t\"inputs\": [\n",
        "# \t\t\t{\n",
        "# \t\t\t\t\"internalType\": \"string\",\n",
        "# \t\t\t\t\"name\": \"descript\",\n",
        "# \t\t\t\t\"type\": \"string\"\n",
        "# \t\t\t}\n",
        "# \t\t],\n",
        "# \t\t\"name\": \"FakeMessage\",\n",
        "# \t\t\"outputs\": [],\n",
        "# \t\t\"stateMutability\": \"payable\",\n",
        "# \t\t\"type\": \"function\"\n",
        "# \t},\n",
        "\n",
        "# \t{\n",
        "# \t\t\"inputs\": [\n",
        "# \t\t\t{\n",
        "# \t\t\t\t\"internalType\": \"bool\",\n",
        "# \t\t\t\t\"name\": \"validity\",\n",
        "# \t\t\t\t\"type\": \"bool\"\n",
        "# \t\t\t}\n",
        "# \t\t],\n",
        "# \t\t\"name\": \"VerifyMessage\",\n",
        "# \t\t\"outputs\": [],\n",
        "# \t\t\"stateMutability\": \"payable\",\n",
        "# \t\t\"type\": \"function\"\n",
        "# \t},\n",
        "# \t{\n",
        "# \t\t\"inputs\": [\n",
        "# \t\t\t{\n",
        "# \t\t\t\t\"internalType\": \"uint256\",\n",
        "# \t\t\t\t\"name\": \"\",\n",
        "# \t\t\t\t\"type\": \"uint256\"\n",
        "# \t\t\t}\n",
        "# \t\t],\n",
        "# \t\t\"name\": \"approvers\",\n",
        "# \t\t\"outputs\": [\n",
        "# \t\t\t{\n",
        "# \t\t\t\t\"internalType\": \"address\",\n",
        "# \t\t\t\t\"name\": \"\",\n",
        "# \t\t\t\t\"type\": \"address\"\n",
        "# \t\t\t}\n",
        "# \t\t],\n",
        "# \t\t\"stateMutability\": \"view\",\n",
        "# \t\t\"type\": \"function\"\n",
        "# \t},\n",
        "# \t{\n",
        "# \t\t\"inputs\": [],\n",
        "# \t\t\"name\": \"bal\",\n",
        "# \t\t\"outputs\": [\n",
        "# \t\t\t{\n",
        "# \t\t\t\t\"internalType\": \"uint256\",\n",
        "# \t\t\t\t\"name\": \"\",\n",
        "# \t\t\t\t\"type\": \"uint256\"\n",
        "# \t\t\t}\n",
        "# \t\t],\n",
        "# \t\t\"stateMutability\": \"view\",\n",
        "# \t\t\"type\": \"function\"\n",
        "# \t},\n",
        "# \t{\n",
        "# \t\t\"inputs\": [\n",
        "# \t\t\t{\n",
        "# \t\t\t\t\"internalType\": \"uint256\",\n",
        "# \t\t\t\t\"name\": \"\",\n",
        "# \t\t\t\t\"type\": \"uint256\"\n",
        "# \t\t\t}\n",
        "# \t\t],\n",
        "# \t\t\"name\": \"disapprovers\",\n",
        "# \t\t\"outputs\": [\n",
        "# \t\t\t{\n",
        "# \t\t\t\t\"internalType\": \"address\",\n",
        "# \t\t\t\t\"name\": \"\",\n",
        "# \t\t\t\t\"type\": \"address\"\n",
        "# \t\t\t}\n",
        "# \t\t],\n",
        "# \t\t\"stateMutability\": \"view\",\n",
        "# \t\t\"type\": \"function\"\n",
        "# \t},\n",
        "# \t{\n",
        "# \t\t\"inputs\": [],\n",
        "# \t\t\"name\": \"minimumContribution\",\n",
        "# \t\t\"outputs\": [\n",
        "# \t\t\t{\n",
        "# \t\t\t\t\"internalType\": \"uint256\",\n",
        "# \t\t\t\t\"name\": \"\",\n",
        "# \t\t\t\t\"type\": \"uint256\"\n",
        "# \t\t\t}\n",
        "# \t\t],\n",
        "# \t\t\"stateMutability\": \"view\",\n",
        "# \t\t\"type\": \"function\"\n",
        "# \t},\n",
        "# \t{\n",
        "# \t\t\"inputs\": [],\n",
        "# \t\t\"name\": \"true_sender\",\n",
        "# \t\t\"outputs\": [\n",
        "# \t\t\t{\n",
        "# \t\t\t\t\"internalType\": \"address\",\n",
        "# \t\t\t\t\"name\": \"\",\n",
        "# \t\t\t\t\"type\": \"address\"\n",
        "# \t\t\t}\n",
        "# \t\t],\n",
        "# \t\t\"stateMutability\": \"view\",\n",
        "# \t\t\"type\": \"function\"\n",
        "# \t}\n",
        "# ]\n",
        "nonce += 1\n",
        "update_fmc = fakeMessageContract.functions.FakeMessage('Hi').build_transaction({\n",
        "    \"gasPrice\": w3.eth.gas_price,\n",
        "    'chainId': 5,\n",
        "    \"from\": '0x4add2a5b96D7A1123c5d28A8626BcA588F6fC24D',\n",
        "    \"nonce\": nonce\n",
        "})\n",
        "\n",
        "pKey = '0x' + 'e0404830c8b9d60cc7cb2e6b55ccfbf2851af4bb751693e3533803be2cbb9292'\n",
        "signed_transaction = w3.eth.account.sign_transaction(transaction, private_key = pKey)\n",
        "\n",
        "transaction_hash = ''\n",
        "transaction_hash = w3.eth.send_raw_transaction(signed_transaction.rawTransaction)\n",
        "\n",
        "transaction_receipt = w3.eth.wait_for_transaction_receipt(transaction_hash)\n",
        "fakeMessageContractUpdate1 = w3.eth.contract(address = transaction_receipt.contractAddress, abi = abi)\n",
        "fakeMessageContract.functions.approvers().call()"
      ],
      "metadata": {
        "id": "LQVq5R-vqYin"
      },
      "execution_count": null,
      "outputs": []
    },
    {
      "cell_type": "code",
      "source": [
        "# {\n",
        "# \t\"functionDebugData\": {},\n",
        "# \t\"generatedSources\": [],\n",
        "# \t\"linkReferences\": {},\n",
        "# \t\"object\": '''608060405234801561001057600080fd5b50610c2e806100206000396000f3fe6080604052600436106100915760003560e01c\n",
        "# 8063936027ed11610059578063936027ed1461015e578063937e09b11461017a578063a5426d29146101a5578063d3650fb8146101af578063db5854\n",
        "# 5d146101ec57610091565b8063226c78f7146100965780633d79d1c8146100a0578063401d8453146100cb5780634cc2e96a146100f65780638b7afe2e14610133575b6\n",
        "# 00080fd5b61009e610208565b005b3480156100ac57600080fd5b506100b56102de565b6040516100c29190610915565b60405180910390f35b3480156100d757600080fd5\n",
        "# b506100e06102e4565b6040516100ed91906108fa565b60405180910390f35b34801561010257600080fd5b5061011d600480360381019061011891906108af565b6103085\n",
        "# 65b60405161012a91906108fa565b60405180910390f35b34801561013f57600080fd5b50610148610347565b6040516101559190610915565b60405180910390f35b61017\n",
        "# 860048036038101906101739190610839565b610358565b005b34801561018657600080fd5b5061018f610504565b60405161019c9190610915565b60405180910390f35b6\n",
        "# 101ad61050a565b005b3480156101bb57600080fd5b506101d660048036038101906101d191906108af565b6105e0565b6040516101e391906108fa565b60405180910390f\n",
        "# 35b61020660048036038101906102019190610866565b61061f565b005b60008054906101000a900473ffffffffffffffffffffffffffffffffffffffff1673fffffffffff\n",
        "# fffffffffffffffffffffffffffff163373ffffffffffffffffffffffffffffffffffffffff16141561026157600080fd5b600933908060018154018082558091505060019\n",
        "# 0039060005260206000200160009091909190916101000a81548173ffffffffffffffffffffffffffffffffffffffff021916908373fffffffffffffffffffffffffffffff\n",
        "# fffffffff160217905550600760008154809291906102d790610a71565b9190505550565b60045481565b60008054906101000a900473fffffffffffffffffffffffffffff\n",
        "# fffffffffff1681565b6009818154811061031857600080fd5b906000526020600020016000915054906101000a900473ffffffffffffffffffffffffffffffffffffffff1\n",
        "# 681565b600047600481905550600454905090565b476004819055508015610435574760048190555060065460045461037c9190610986565b60058190555060005b6006548\n",
        "# 1101561042f576000600882815481106103a5576103a4610b47565b5b9060005260206000200160009054906101000a900473fffffffffffffffffffffffffffffffffffff\n",
        "# fff1690508073ffffffffffffffffffffffffffffffffffffffff166108fc6005549081150290604051600060405180830381858888f1935050505015801561041a573d600\n",
        "# 0803e3d6000fd5b5050808061042790610a71565b915050610385565b50610501565b4760048190555060075460045461044c9190610986565b60058190555060005b60075\n",
        "# 48110156104ff5760006009828154811061047557610474610b47565b5b9060005260206000200160009054906101000a900473fffffffffffffffffffffffffffffffffff\n",
        "# fffff1690508073ffffffffffffffffffffffffffffffffffffffff166108fc6005549081150290604051600060405180830381858888f193505050501580156104ea573d6\n",
        "# 000803e3d6000fd5b505080806104f790610a71565b915050610455565b505b50565b60015481565b60008054906101000a900473fffffffffffffffffffffffffffffffff\n",
        "# fffffff1673ffffffffffffffffffffffffffffffffffffffff163373ffffffffffffffffffffffffffffffffffffffff16141561056357600080fd5b600833908060018154\n",
        "# 0180825580915050600190039060005260206000200160009091909190916101000a81548173ffffffffffffffffffffffffffffffffffffffff021916908373fffffffffff\n",
        "# fffffffffffffffffffffffffffff160217905550600660008154809291906105d990610a71565b9190505550565b600881815481106105f057600080fd5b90600052602060\n",
        "# 0020016000915054906101000a900473ffffffffffffffffffffffffffffffffffffffff1681565b336000806101000a81548173fffffffffffffffffffffffffffffffffff\n",
        "# fffff021916908373ffffffffffffffffffffffffffffffffffffffff16021790555080600290805190602001906106759291906106fc565b50600860008054906101000a90\n",
        "# 0473ffffffffffffffffffffffffffffffffffffffff169080600181540180825580915050600190039060005260206000200160009091909190916101000a81548173fffff\n",
        "# fffffffffffffffffffffffffffffffffff021916908373ffffffffffffffffffffffffffffffffffffffff16021790555050565b82805461070890610a0e565b9060005260\n",
        "# 2060002090601f01602090048101928261072a5760008555610771565b82601f1061074357805160ff1916838001178555610771565b8280016001018555821561077157918\n",
        "# 2015b82811115610770578251825591602001919060010190610755565b5b50905061077e9190610782565b5090565b5b8082111561079b5760008160009055506001016107\n",
        "# 83565b5090565b60006107b26107ad84610955565b610930565b9050828152602081018484840111156107ce576107cd610baa565b5b6107d98482856109ff565b509392505\n",
        "# 050565b6000813590506107f081610bca565b92915050565b600082601f83011261080b5761080a610ba5565b5b813561081b84826020860161079f565b9150509291505056\n",
        "# 5b60008135905061083381610be1565b92915050565b60006020828403121561084f5761084e610bb4565b5b600061085d848285016107e1565b91505092915050565b60006\n",
        "# 020828403121561087c5761087b610bb4565b5b600082013567ffffffffffffffff81111561089a57610899610baf565b5b6108a6848285016107f6565b9150509291505056\n",
        "# 5b6000602082840312156108c5576108c4610bb4565b5b60006108d384828501610824565b91505092915050565b6108e5816109b7565b82525050565b6108f4816109f5565\n",
        "# b82525050565b600060208201905061090f60008301846108dc565b92915050565b600060208201905061092a60008301846108eb565b92915050565b600061093a61094b56\n",
        "# 5b90506109468282610a40565b919050565b6000604051905090565b600067ffffffffffffffff8211156109705761096f610b76565b5b61097982610bb9565b90506020810\n",
        "# 19050919050565b6000610991826109f5565b915061099c836109f5565b9250826109ac576109ab610ae9565b5b828204905092915050565b60006109c2826109d5565b9050\n",
        "# 919050565b60008115159050919050565b600073ffffffffffffffffffffffffffffffffffffffff82169050919050565b6000819050919050565b828183376000838301525\n",
        "# 05050565b60006002820490506001821680610a2657607f821691505b60208210811415610a3a57610a39610b18565b5b50919050565b610a4982610bb9565b810181811067\n",
        "# ffffffffffffffff82111715610a6857610a67610b76565b5b80604052505050565b6000610a7c826109f5565b91507ffffffffffffffffffffffffffffffffffffffffffff\n",
        "# fffffffffffffffffffff821415610aaf57610aae610aba565b5b600182019050919050565b7f4e487b71000000000000000000000000000000000000000000000000000000\n",
        "# 00600052601160045260246000fd5b7f4e487b7100000000000000000000000000000000000000000000000000000000600052601260045260246000fd5b7f4e487b7100000\n",
        "# 000000000000000000000000000000000000000000000000000600052602260045260246000fd5b7f4e487b7100000000000000000000000000000000000000000000000000\n",
        "# 000000600052603260045260246000fd5b7f4e487b7100000000000000000000000000000000000000000000000000000000600052604160045260246000fd5b600080fd5b6\n",
        "# 00080fd5b600080fd5b600080fd5b6000601f19601f8301169050919050565b610bd3816109c9565b8114610bde57600080fd5b50565b610bea816109f5565b8114610bf557\n",
        "# 600080fd5b5056fea264697066735822122039f1dbbfb2b9942001c1fe1336e68419365c70b88dc54045b8a0782d8bf60da164736f6c63430008070033'''\n",
        "# \t\"opcodes\": \"PUSH1 0x80 PUSH1 0x40 MSTORE CALLVALUE DUP1 ISZERO PUSH2 0x10 JUMPI PUSH1 0x0 DUP1 REVERT JUMPDEST POP PUSH2 0xC2E DUP1 PUSH2 0x20 PUSH1 0x0 CODECOPY PUSH1 0x0 RETURN INVALID PUSH1 0x80 PUSH1 0x40 MSTORE PUSH1 0x4 CALLDATASIZE LT PUSH2 0x91 JUMPI PUSH1 0x0 CALLDATALOAD PUSH1 0xE0 SHR DUP1 PUSH4 0x936027ED GT PUSH2 0x59 JUMPI DUP1 PUSH4 0x936027ED EQ PUSH2 0x15E JUMPI DUP1 PUSH4 0x937E09B1 EQ PUSH2 0x17A JUMPI DUP1 PUSH4 0xA5426D29 EQ PUSH2 0x1A5 JUMPI DUP1 PUSH4 0xD3650FB8 EQ PUSH2 0x1AF JUMPI DUP1 PUSH4 0xDB58545D EQ PUSH2 0x1EC JUMPI PUSH2 0x91 JUMP JUMPDEST DUP1 PUSH4 0x226C78F7 EQ PUSH2 0x96 JUMPI DUP1 PUSH4 0x3D79D1C8 EQ PUSH2 0xA0 JUMPI DUP1 PUSH4 0x401D8453 EQ PUSH2 0xCB JUMPI DUP1 PUSH4 0x4CC2E96A EQ PUSH2 0xF6 JUMPI DUP1 PUSH4 0x8B7AFE2E EQ PUSH2 0x133 JUMPI JUMPDEST PUSH1 0x0 DUP1 REVERT JUMPDEST PUSH2 0x9E PUSH2 0x208 JUMP JUMPDEST STOP JUMPDEST CALLVALUE DUP1 ISZERO PUSH2 0xAC JUMPI PUSH1 0x0 DUP1 REVERT JUMPDEST POP PUSH2 0xB5 PUSH2 0x2DE JUMP JUMPDEST PUSH1 0x40 MLOAD PUSH2 0xC2 SWAP2 SWAP1 PUSH2 0x915 JUMP JUMPDEST PUSH1 0x40 MLOAD DUP1 SWAP2 SUB SWAP1 RETURN JUMPDEST CALLVALUE DUP1 ISZERO PUSH2 0xD7 JUMPI PUSH1 0x0 DUP1 REVERT JUMPDEST POP PUSH2 0xE0 PUSH2 0x2E4 JUMP JUMPDEST PUSH1 0x40 MLOAD PUSH2 0xED SWAP2 SWAP1 PUSH2 0x8FA JUMP JUMPDEST PUSH1 0x40 MLOAD DUP1 SWAP2 SUB SWAP1 RETURN JUMPDEST CALLVALUE DUP1 ISZERO PUSH2 0x102 JUMPI PUSH1 0x0 DUP1 REVERT JUMPDEST POP PUSH2 0x11D PUSH1 0x4 DUP1 CALLDATASIZE SUB DUP2 ADD SWAP1 PUSH2 0x118 SWAP2 SWAP1 PUSH2 0x8AF JUMP JUMPDEST PUSH2 0x308 JUMP JUMPDEST PUSH1 0x40 MLOAD PUSH2 0x12A SWAP2 SWAP1 PUSH2 0x8FA JUMP JUMPDEST PUSH1 0x40 MLOAD DUP1 SWAP2 SUB SWAP1 RETURN JUMPDEST CALLVALUE DUP1 ISZERO PUSH2 0x13F JUMPI PUSH1 0x0 DUP1 REVERT JUMPDEST POP PUSH2 0x148 PUSH2 0x347 JUMP JUMPDEST PUSH1 0x40 MLOAD PUSH2 0x155 SWAP2 SWAP1 PUSH2 0x915 JUMP JUMPDEST PUSH1 0x40 MLOAD DUP1 SWAP2 SUB SWAP1 RETURN JUMPDEST PUSH2 0x178 PUSH1 0x4 DUP1 CALLDATASIZE SUB DUP2 ADD SWAP1 PUSH2 0x173 SWAP2 SWAP1 PUSH2 0x839 JUMP JUMPDEST PUSH2 0x358 JUMP JUMPDEST STOP JUMPDEST CALLVALUE DUP1 ISZERO PUSH2 0x186 JUMPI PUSH1 0x0 DUP1 REVERT JUMPDEST POP PUSH2 0x18F PUSH2 0x504 JUMP JUMPDEST PUSH1 0x40 MLOAD PUSH2 0x19C SWAP2 SWAP1 PUSH2 0x915 JUMP JUMPDEST PUSH1 0x40 MLOAD DUP1 SWAP2 SUB SWAP1 RETURN JUMPDEST PUSH2 0x1AD PUSH2 0x50A JUMP JUMPDEST STOP JUMPDEST CALLVALUE DUP1 ISZERO PUSH2 0x1BB JUMPI PUSH1 0x0 DUP1 REVERT JUMPDEST POP PUSH2 0x1D6 PUSH1 0x4 DUP1 CALLDATASIZE SUB DUP2 ADD SWAP1 PUSH2 0x1D1 SWAP2 SWAP1 PUSH2 0x8AF JUMP JUMPDEST PUSH2 0x5E0 JUMP JUMPDEST PUSH1 0x40 MLOAD PUSH2 0x1E3 SWAP2 SWAP1 PUSH2 0x8FA JUMP JUMPDEST PUSH1 0x40 MLOAD DUP1 SWAP2 SUB SWAP1 RETURN JUMPDEST PUSH2 0x206 PUSH1 0x4 DUP1 CALLDATASIZE SUB DUP2 ADD SWAP1 PUSH2 0x201 SWAP2 SWAP1 PUSH2 0x866 JUMP JUMPDEST PUSH2 0x61F JUMP JUMPDEST STOP JUMPDEST PUSH1 0x0 DUP1 SLOAD SWAP1 PUSH2 0x100 EXP SWAP1 DIV PUSH20 0xFFFFFFFFFFFFFFFFFFFFFFFFFFFFFFFFFFFFFFFF AND PUSH20 0xFFFFFFFFFFFFFFFFFFFFFFFFFFFFFFFFFFFFFFFF AND CALLER PUSH20 0xFFFFFFFFFFFFFFFFFFFFFFFFFFFFFFFFFFFFFFFF AND EQ ISZERO PUSH2 0x261 JUMPI PUSH1 0x0 DUP1 REVERT JUMPDEST PUSH1 0x9 CALLER SWAP1 DUP1 PUSH1 0x1 DUP2 SLOAD ADD DUP1 DUP3 SSTORE DUP1 SWAP2 POP POP PUSH1 0x1 SWAP1 SUB SWAP1 PUSH1 0x0 MSTORE PUSH1 0x20 PUSH1 0x0 KECCAK256 ADD PUSH1 0x0 SWAP1 SWAP2 SWAP1 SWAP2 SWAP1 SWAP2 PUSH2 0x100 EXP DUP2 SLOAD DUP2 PUSH20 0xFFFFFFFFFFFFFFFFFFFFFFFFFFFFFFFFFFFFFFFF MUL NOT AND SWAP1 DUP4 PUSH20 0xFFFFFFFFFFFFFFFFFFFFFFFFFFFFFFFFFFFFFFFF AND MUL OR SWAP1 SSTORE POP PUSH1 0x7 PUSH1 0x0 DUP2 SLOAD DUP1 SWAP3 SWAP2 SWAP1 PUSH2 0x2D7 SWAP1 PUSH2 0xA71 JUMP JUMPDEST SWAP2 SWAP1 POP SSTORE POP JUMP JUMPDEST PUSH1 0x4 SLOAD DUP2 JUMP JUMPDEST PUSH1 0x0 DUP1 SLOAD SWAP1 PUSH2 0x100 EXP SWAP1 DIV PUSH20 0xFFFFFFFFFFFFFFFFFFFFFFFFFFFFFFFFFFFFFFFF AND DUP2 JUMP JUMPDEST PUSH1 0x9 DUP2 DUP2 SLOAD DUP2 LT PUSH2 0x318 JUMPI PUSH1 0x0 DUP1 REVERT JUMPDEST SWAP1 PUSH1 0x0 MSTORE PUSH1 0x20 PUSH1 0x0 KECCAK256 ADD PUSH1 0x0 SWAP2 POP SLOAD SWAP1 PUSH2 0x100 EXP SWAP1 DIV PUSH20 0xFFFFFFFFFFFFFFFFFFFFFFFFFFFFFFFFFFFFFFFF AND DUP2 JUMP JUMPDEST PUSH1 0x0 SELFBALANCE PUSH1 0x4 DUP2 SWAP1 SSTORE POP PUSH1 0x4 SLOAD SWAP1 POP SWAP1 JUMP JUMPDEST SELFBALANCE PUSH1 0x4 DUP2 SWAP1 SSTORE POP DUP1 ISZERO PUSH2 0x435 JUMPI SELFBALANCE PUSH1 0x4 DUP2 SWAP1 SSTORE POP PUSH1 0x6 SLOAD PUSH1 0x4 SLOAD PUSH2 0x37C SWAP2 SWAP1 PUSH2 0x986 JUMP JUMPDEST PUSH1 0x5 DUP2 SWAP1 SSTORE POP PUSH1 0x0 JUMPDEST PUSH1 0x6 SLOAD DUP2 LT ISZERO PUSH2 0x42F JUMPI PUSH1 0x0 PUSH1 0x8 DUP3 DUP2 SLOAD DUP2 LT PUSH2 0x3A5 JUMPI PUSH2 0x3A4 PUSH2 0xB47 JUMP JUMPDEST JUMPDEST SWAP1 PUSH1 0x0 MSTORE PUSH1 0x20 PUSH1 0x0 KECCAK256 ADD PUSH1 0x0 SWAP1 SLOAD SWAP1 PUSH2 0x100 EXP SWAP1 DIV PUSH20 0xFFFFFFFFFFFFFFFFFFFFFFFFFFFFFFFFFFFFFFFF AND SWAP1 POP DUP1 PUSH20 0xFFFFFFFFFFFFFFFFFFFFFFFFFFFFFFFFFFFFFFFF AND PUSH2 0x8FC PUSH1 0x5 SLOAD SWAP1 DUP2 ISZERO MUL SWAP1 PUSH1 0x40 MLOAD PUSH1 0x0 PUSH1 0x40 MLOAD DUP1 DUP4 SUB DUP2 DUP6 DUP9 DUP9 CALL SWAP4 POP POP POP POP ISZERO DUP1 ISZERO PUSH2 0x41A JUMPI RETURNDATASIZE PUSH1 0x0 DUP1 RETURNDATACOPY RETURNDATASIZE PUSH1 0x0 REVERT JUMPDEST POP POP DUP1 DUP1 PUSH2 0x427 SWAP1 PUSH2 0xA71 JUMP JUMPDEST SWAP2 POP POP PUSH2 0x385 JUMP JUMPDEST POP PUSH2 0x501 JUMP JUMPDEST SELFBALANCE PUSH1 0x4 DUP2 SWAP1 SSTORE POP PUSH1 0x7 SLOAD PUSH1 0x4 SLOAD PUSH2 0x44C SWAP2 SWAP1 PUSH2 0x986 JUMP JUMPDEST PUSH1 0x5 DUP2 SWAP1 SSTORE POP PUSH1 0x0 JUMPDEST PUSH1 0x7 SLOAD DUP2 LT ISZERO PUSH2 0x4FF JUMPI PUSH1 0x0 PUSH1 0x9 DUP3 DUP2 SLOAD DUP2 LT PUSH2 0x475 JUMPI PUSH2 0x474 PUSH2 0xB47 JUMP JUMPDEST JUMPDEST SWAP1 PUSH1 0x0 MSTORE PUSH1 0x20 PUSH1 0x0 KECCAK256 ADD PUSH1 0x0 SWAP1 SLOAD SWAP1 PUSH2 0x100 EXP SWAP1 DIV PUSH20 0xFFFFFFFFFFFFFFFFFFFFFFFFFFFFFFFFFFFFFFFF AND SWAP1 POP DUP1 PUSH20 0xFFFFFFFFFFFFFFFFFFFFFFFFFFFFFFFFFFFFFFFF AND PUSH2 0x8FC PUSH1 0x5 SLOAD SWAP1 DUP2 ISZERO MUL SWAP1 PUSH1 0x40 MLOAD PUSH1 0x0 PUSH1 0x40 MLOAD DUP1 DUP4 SUB DUP2 DUP6 DUP9 DUP9 CALL SWAP4 POP POP POP POP ISZERO DUP1 ISZERO PUSH2 0x4EA JUMPI RETURNDATASIZE PUSH1 0x0 DUP1 RETURNDATACOPY RETURNDATASIZE PUSH1 0x0 REVERT JUMPDEST POP POP DUP1 DUP1 PUSH2 0x4F7 SWAP1 PUSH2 0xA71 JUMP JUMPDEST SWAP2 POP POP PUSH2 0x455 JUMP JUMPDEST POP JUMPDEST POP JUMP JUMPDEST PUSH1 0x1 SLOAD DUP2 JUMP JUMPDEST PUSH1 0x0 DUP1 SLOAD SWAP1 PUSH2 0x100 EXP SWAP1 DIV PUSH20 0xFFFFFFFFFFFFFFFFFFFFFFFFFFFFFFFFFFFFFFFF AND PUSH20 0xFFFFFFFFFFFFFFFFFFFFFFFFFFFFFFFFFFFFFFFF AND CALLER PUSH20 0xFFFFFFFFFFFFFFFFFFFFFFFFFFFFFFFFFFFFFFFF AND EQ ISZERO PUSH2 0x563 JUMPI PUSH1 0x0 DUP1 REVERT JUMPDEST PUSH1 0x8 CALLER SWAP1 DUP1 PUSH1 0x1 DUP2 SLOAD ADD DUP1 DUP3 SSTORE DUP1 SWAP2 POP POP PUSH1 0x1 SWAP1 SUB SWAP1 PUSH1 0x0 MSTORE PUSH1 0x20 PUSH1 0x0 KECCAK256 ADD PUSH1 0x0 SWAP1 SWAP2 SWAP1 SWAP2 SWAP1 SWAP2 PUSH2 0x100 EXP DUP2 SLOAD DUP2 PUSH20 0xFFFFFFFFFFFFFFFFFFFFFFFFFFFFFFFFFFFFFFFF MUL NOT AND SWAP1 DUP4 PUSH20 0xFFFFFFFFFFFFFFFFFFFFFFFFFFFFFFFFFFFFFFFF AND MUL OR SWAP1 SSTORE POP PUSH1 0x6 PUSH1 0x0 DUP2 SLOAD DUP1 SWAP3 SWAP2 SWAP1 PUSH2 0x5D9 SWAP1 PUSH2 0xA71 JUMP JUMPDEST SWAP2 SWAP1 POP SSTORE POP JUMP JUMPDEST PUSH1 0x8 DUP2 DUP2 SLOAD DUP2 LT PUSH2 0x5F0 JUMPI PUSH1 0x0 DUP1 REVERT JUMPDEST SWAP1 PUSH1 0x0 MSTORE PUSH1 0x20 PUSH1 0x0 KECCAK256 ADD PUSH1 0x0 SWAP2 POP SLOAD SWAP1 PUSH2 0x100 EXP SWAP1 DIV PUSH20 0xFFFFFFFFFFFFFFFFFFFFFFFFFFFFFFFFFFFFFFFF AND DUP2 JUMP JUMPDEST CALLER PUSH1 0x0 DUP1 PUSH2 0x100 EXP DUP2 SLOAD DUP2 PUSH20 0xFFFFFFFFFFFFFFFFFFFFFFFFFFFFFFFFFFFFFFFF MUL NOT AND SWAP1 DUP4 PUSH20 0xFFFFFFFFFFFFFFFFFFFFFFFFFFFFFFFFFFFFFFFF AND MUL OR SWAP1 SSTORE POP DUP1 PUSH1 0x2 SWAP1 DUP1 MLOAD SWAP1 PUSH1 0x20 ADD SWAP1 PUSH2 0x675 SWAP3 SWAP2 SWAP1 PUSH2 0x6FC JUMP JUMPDEST POP PUSH1 0x8 PUSH1 0x0 DUP1 SLOAD SWAP1 PUSH2 0x100 EXP SWAP1 DIV PUSH20 0xFFFFFFFFFFFFFFFFFFFFFFFFFFFFFFFFFFFFFFFF AND SWAP1 DUP1 PUSH1 0x1 DUP2 SLOAD ADD DUP1 DUP3 SSTORE DUP1 SWAP2 POP POP PUSH1 0x1 SWAP1 SUB SWAP1 PUSH1 0x0 MSTORE PUSH1 0x20 PUSH1 0x0 KECCAK256 ADD PUSH1 0x0 SWAP1 SWAP2 SWAP1 SWAP2 SWAP1 SWAP2 PUSH2 0x100 EXP DUP2 SLOAD DUP2 PUSH20 0xFFFFFFFFFFFFFFFFFFFFFFFFFFFFFFFFFFFFFFFF MUL NOT AND SWAP1 DUP4 PUSH20 0xFFFFFFFFFFFFFFFFFFFFFFFFFFFFFFFFFFFFFFFF AND MUL OR SWAP1 SSTORE POP POP JUMP JUMPDEST DUP3 DUP1 SLOAD PUSH2 0x708 SWAP1 PUSH2 0xA0E JUMP JUMPDEST SWAP1 PUSH1 0x0 MSTORE PUSH1 0x20 PUSH1 0x0 KECCAK256 SWAP1 PUSH1 0x1F ADD PUSH1 0x20 SWAP1 DIV DUP2 ADD SWAP3 DUP3 PUSH2 0x72A JUMPI PUSH1 0x0 DUP6 SSTORE PUSH2 0x771 JUMP JUMPDEST DUP3 PUSH1 0x1F LT PUSH2 0x743 JUMPI DUP1 MLOAD PUSH1 0xFF NOT AND DUP4 DUP1 ADD OR DUP6 SSTORE PUSH2 0x771 JUMP JUMPDEST DUP3 DUP1 ADD PUSH1 0x1 ADD DUP6 SSTORE DUP3 ISZERO PUSH2 0x771 JUMPI SWAP2 DUP3 ADD JUMPDEST DUP3 DUP2 GT ISZERO PUSH2 0x770 JUMPI DUP3 MLOAD DUP3 SSTORE SWAP2 PUSH1 0x20 ADD SWAP2 SWAP1 PUSH1 0x1 ADD SWAP1 PUSH2 0x755 JUMP JUMPDEST JUMPDEST POP SWAP1 POP PUSH2 0x77E SWAP2 SWAP1 PUSH2 0x782 JUMP JUMPDEST POP SWAP1 JUMP JUMPDEST JUMPDEST DUP1 DUP3 GT ISZERO PUSH2 0x79B JUMPI PUSH1 0x0 DUP2 PUSH1 0x0 SWAP1 SSTORE POP PUSH1 0x1 ADD PUSH2 0x783 JUMP JUMPDEST POP SWAP1 JUMP JUMPDEST PUSH1 0x0 PUSH2 0x7B2 PUSH2 0x7AD DUP5 PUSH2 0x955 JUMP JUMPDEST PUSH2 0x930 JUMP JUMPDEST SWAP1 POP DUP3 DUP2 MSTORE PUSH1 0x20 DUP2 ADD DUP5 DUP5 DUP5 ADD GT ISZERO PUSH2 0x7CE JUMPI PUSH2 0x7CD PUSH2 0xBAA JUMP JUMPDEST JUMPDEST PUSH2 0x7D9 DUP5 DUP3 DUP6 PUSH2 0x9FF JUMP JUMPDEST POP SWAP4 SWAP3 POP POP POP JUMP JUMPDEST PUSH1 0x0 DUP2 CALLDATALOAD SWAP1 POP PUSH2 0x7F0 DUP2 PUSH2 0xBCA JUMP JUMPDEST SWAP3 SWAP2 POP POP JUMP JUMPDEST PUSH1 0x0 DUP3 PUSH1 0x1F DUP4 ADD SLT PUSH2 0x80B JUMPI PUSH2 0x80A PUSH2 0xBA5 JUMP JUMPDEST JUMPDEST DUP2 CALLDATALOAD PUSH2 0x81B DUP5 DUP3 PUSH1 0x20 DUP7 ADD PUSH2 0x79F JUMP JUMPDEST SWAP2 POP POP SWAP3 SWAP2 POP POP JUMP JUMPDEST PUSH1 0x0 DUP2 CALLDATALOAD SWAP1 POP PUSH2 0x833 DUP2 PUSH2 0xBE1 JUMP JUMPDEST SWAP3 SWAP2 POP POP JUMP JUMPDEST PUSH1 0x0 PUSH1 0x20 DUP3 DUP5 SUB SLT ISZERO PUSH2 0x84F JUMPI PUSH2 0x84E PUSH2 0xBB4 JUMP JUMPDEST JUMPDEST PUSH1 0x0 PUSH2 0x85D DUP5 DUP3 DUP6 ADD PUSH2 0x7E1 JUMP JUMPDEST SWAP2 POP POP SWAP3 SWAP2 POP POP JUMP JUMPDEST PUSH1 0x0 PUSH1 0x20 DUP3 DUP5 SUB SLT ISZERO PUSH2 0x87C JUMPI PUSH2 0x87B PUSH2 0xBB4 JUMP JUMPDEST JUMPDEST PUSH1 0x0 DUP3 ADD CALLDATALOAD PUSH8 0xFFFFFFFFFFFFFFFF DUP2 GT ISZERO PUSH2 0x89A JUMPI PUSH2 0x899 PUSH2 0xBAF JUMP JUMPDEST JUMPDEST PUSH2 0x8A6 DUP5 DUP3 DUP6 ADD PUSH2 0x7F6 JUMP JUMPDEST SWAP2 POP POP SWAP3 SWAP2 POP POP JUMP JUMPDEST PUSH1 0x0 PUSH1 0x20 DUP3 DUP5 SUB SLT ISZERO PUSH2 0x8C5 JUMPI PUSH2 0x8C4 PUSH2 0xBB4 JUMP JUMPDEST JUMPDEST PUSH1 0x0 PUSH2 0x8D3 DUP5 DUP3 DUP6 ADD PUSH2 0x824 JUMP JUMPDEST SWAP2 POP POP SWAP3 SWAP2 POP POP JUMP JUMPDEST PUSH2 0x8E5 DUP2 PUSH2 0x9B7 JUMP JUMPDEST DUP3 MSTORE POP POP JUMP JUMPDEST PUSH2 0x8F4 DUP2 PUSH2 0x9F5 JUMP JUMPDEST DUP3 MSTORE POP POP JUMP JUMPDEST PUSH1 0x0 PUSH1 0x20 DUP3 ADD SWAP1 POP PUSH2 0x90F PUSH1 0x0 DUP4 ADD DUP5 PUSH2 0x8DC JUMP JUMPDEST SWAP3 SWAP2 POP POP JUMP JUMPDEST PUSH1 0x0 PUSH1 0x20 DUP3 ADD SWAP1 POP PUSH2 0x92A PUSH1 0x0 DUP4 ADD DUP5 PUSH2 0x8EB JUMP JUMPDEST SWAP3 SWAP2 POP POP JUMP JUMPDEST PUSH1 0x0 PUSH2 0x93A PUSH2 0x94B JUMP JUMPDEST SWAP1 POP PUSH2 0x946 DUP3 DUP3 PUSH2 0xA40 JUMP JUMPDEST SWAP2 SWAP1 POP JUMP JUMPDEST PUSH1 0x0 PUSH1 0x40 MLOAD SWAP1 POP SWAP1 JUMP JUMPDEST PUSH1 0x0 PUSH8 0xFFFFFFFFFFFFFFFF DUP3 GT ISZERO PUSH2 0x970 JUMPI PUSH2 0x96F PUSH2 0xB76 JUMP JUMPDEST JUMPDEST PUSH2 0x979 DUP3 PUSH2 0xBB9 JUMP JUMPDEST SWAP1 POP PUSH1 0x20 DUP2 ADD SWAP1 POP SWAP2 SWAP1 POP JUMP JUMPDEST PUSH1 0x0 PUSH2 0x991 DUP3 PUSH2 0x9F5 JUMP JUMPDEST SWAP2 POP PUSH2 0x99C DUP4 PUSH2 0x9F5 JUMP JUMPDEST SWAP3 POP DUP3 PUSH2 0x9AC JUMPI PUSH2 0x9AB PUSH2 0xAE9 JUMP JUMPDEST JUMPDEST DUP3 DUP3 DIV SWAP1 POP SWAP3 SWAP2 POP POP JUMP JUMPDEST PUSH1 0x0 PUSH2 0x9C2 DUP3 PUSH2 0x9D5 JUMP JUMPDEST SWAP1 POP SWAP2 SWAP1 POP JUMP JUMPDEST PUSH1 0x0 DUP2 ISZERO ISZERO SWAP1 POP SWAP2 SWAP1 POP JUMP JUMPDEST PUSH1 0x0 PUSH20 0xFFFFFFFFFFFFFFFFFFFFFFFFFFFFFFFFFFFFFFFF DUP3 AND SWAP1 POP SWAP2 SWAP1 POP JUMP JUMPDEST PUSH1 0x0 DUP2 SWAP1 POP SWAP2 SWAP1 POP JUMP JUMPDEST DUP3 DUP2 DUP4 CALLDATACOPY PUSH1 0x0 DUP4 DUP4 ADD MSTORE POP POP POP JUMP JUMPDEST PUSH1 0x0 PUSH1 0x2 DUP3 DIV SWAP1 POP PUSH1 0x1 DUP3 AND DUP1 PUSH2 0xA26 JUMPI PUSH1 0x7F DUP3 AND SWAP2 POP JUMPDEST PUSH1 0x20 DUP3 LT DUP2 EQ ISZERO PUSH2 0xA3A JUMPI PUSH2 0xA39 PUSH2 0xB18 JUMP JUMPDEST JUMPDEST POP SWAP2 SWAP1 POP JUMP JUMPDEST PUSH2 0xA49 DUP3 PUSH2 0xBB9 JUMP JUMPDEST DUP2 ADD DUP2 DUP2 LT PUSH8 0xFFFFFFFFFFFFFFFF DUP3 GT OR ISZERO PUSH2 0xA68 JUMPI PUSH2 0xA67 PUSH2 0xB76 JUMP JUMPDEST JUMPDEST DUP1 PUSH1 0x40 MSTORE POP POP POP JUMP JUMPDEST PUSH1 0x0 PUSH2 0xA7C DUP3 PUSH2 0x9F5 JUMP JUMPDEST SWAP2 POP PUSH32 0xFFFFFFFFFFFFFFFFFFFFFFFFFFFFFFFFFFFFFFFFFFFFFFFFFFFFFFFFFFFFFFFF DUP3 EQ ISZERO PUSH2 0xAAF JUMPI PUSH2 0xAAE PUSH2 0xABA JUMP JUMPDEST JUMPDEST PUSH1 0x1 DUP3 ADD SWAP1 POP SWAP2 SWAP1 POP JUMP JUMPDEST PUSH32 0x4E487B7100000000000000000000000000000000000000000000000000000000 PUSH1 0x0 MSTORE PUSH1 0x11 PUSH1 0x4 MSTORE PUSH1 0x24 PUSH1 0x0 REVERT JUMPDEST PUSH32 0x4E487B7100000000000000000000000000000000000000000000000000000000 PUSH1 0x0 MSTORE PUSH1 0x12 PUSH1 0x4 MSTORE PUSH1 0x24 PUSH1 0x0 REVERT JUMPDEST PUSH32 0x4E487B7100000000000000000000000000000000000000000000000000000000 PUSH1 0x0 MSTORE PUSH1 0x22 PUSH1 0x4 MSTORE PUSH1 0x24 PUSH1 0x0 REVERT JUMPDEST PUSH32 0x4E487B7100000000000000000000000000000000000000000000000000000000 PUSH1 0x0 MSTORE PUSH1 0x32 PUSH1 0x4 MSTORE PUSH1 0x24 PUSH1 0x0 REVERT JUMPDEST PUSH32 0x4E487B7100000000000000000000000000000000000000000000000000000000 PUSH1 0x0 MSTORE PUSH1 0x41 PUSH1 0x4 MSTORE PUSH1 0x24 PUSH1 0x0 REVERT JUMPDEST PUSH1 0x0 DUP1 REVERT JUMPDEST PUSH1 0x0 DUP1 REVERT JUMPDEST PUSH1 0x0 DUP1 REVERT JUMPDEST PUSH1 0x0 DUP1 REVERT JUMPDEST PUSH1 0x0 PUSH1 0x1F NOT PUSH1 0x1F DUP4 ADD AND SWAP1 POP SWAP2 SWAP1 POP JUMP JUMPDEST PUSH2 0xBD3 DUP2 PUSH2 0x9C9 JUMP JUMPDEST DUP2 EQ PUSH2 0xBDE JUMPI PUSH1 0x0 DUP1 REVERT JUMPDEST POP JUMP JUMPDEST PUSH2 0xBEA DUP2 PUSH2 0x9F5 JUMP JUMPDEST DUP2 EQ PUSH2 0xBF5 JUMPI PUSH1 0x0 DUP1 REVERT JUMPDEST POP JUMP INVALID LOG2 PUSH5 0x6970667358 0x22 SLT KECCAK256 CODECOPY CALL 0xDB 0xBF 0xB2 0xB9 SWAP5 KECCAK256 ADD 0xC1 INVALID SGT CALLDATASIZE 0xE6 DUP5 NOT CALLDATASIZE 0x5C PUSH17 0xB88DC54045B8A0782D8BF60DA164736F6C PUSH4 0x43000807 STOP CALLER \",\n",
        "# \t\"sourceMap\": \"74:1362:0:-:0;;;;;;;;;;;;;;;;;;;\"\n",
        "# }\n",
        "nonce += 1\n",
        "update_fmc = fakeMessageContract.functions.FakeMessage('Hi').build_transaction({\n",
        "    \"gasPrice\": w3.eth.gas_price,\n",
        "    'chainId': 5,\n",
        "    \"from\": '0x4add2a5b96D7A1123c5d28A8626BcA588F6fC24D',\n",
        "    \"nonce\": nonce\n",
        "})\n",
        "\n",
        "pKey = '0x' + 'e0404830c8b9d60cc7cb2e6b55ccfbf2851af4bb751693e3533803be2cbb9292'\n",
        "signed_transaction = w3.eth.account.sign_transaction(transaction, private_key = pKey)\n",
        "\n",
        "transaction_hash = ''\n",
        "transaction_hash = w3.eth.send_raw_transaction(signed_transaction.rawTransaction)\n",
        "\n",
        "transaction_receipt = w3.eth.wait_for_transaction_receipt(transaction_hash)\n",
        "fakeMessageContractUpdate2 = w3.eth.contract(address = transaction_receipt.contractAddress, abi = abi)\n",
        "fakeMessageContractUpdate2.functions.VerifyMessage(True).call()"
      ],
      "metadata": {
        "colab": {
          "base_uri": "https://localhost:8080/"
        },
        "id": "sym2mydsksBw",
        "outputId": "28cc65fb-397a-4115-bebc-8fd97011046a"
      },
      "execution_count": null,
      "outputs": [
        {
          "output_type": "stream",
          "name": "stdout",
          "text": [
            "---------------------------------\n",
            "| 51000000000000000 | 92% truth |\n",
            "---------------------------------\n"
          ]
        }
      ]
    }
  ]
}